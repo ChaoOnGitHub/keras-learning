{
 "cells": [
  {
   "cell_type": "code",
   "execution_count": 3,
   "metadata": {
    "ExecuteTime": {
     "end_time": "2018-11-20T11:43:13.533520Z",
     "start_time": "2018-11-20T11:43:13.508523Z"
    }
   },
   "outputs": [],
   "source": [
    "from keras.models import Sequential\n",
    "from keras.layers import Dense,Activation\n",
    "from keras import optimizers"
   ]
  },
  {
   "cell_type": "code",
   "execution_count": 2,
   "metadata": {
    "ExecuteTime": {
     "end_time": "2018-11-20T11:42:16.162258Z",
     "start_time": "2018-11-20T11:42:16.112263Z"
    }
   },
   "outputs": [],
   "source": [
    "model=Sequential()\n",
    "model.add(Dense(units=32,activation='relu'))"
   ]
  },
  {
   "cell_type": "code",
   "execution_count": 8,
   "metadata": {
    "ExecuteTime": {
     "end_time": "2018-11-20T11:54:23.632504Z",
     "start_time": "2018-11-20T11:54:23.558511Z"
    }
   },
   "outputs": [],
   "source": [
    "model.compile(optimizer=optimizers.Adam(),loss='categorical_crossentropy',metrics=['accuracy'])"
   ]
  },
  {
   "cell_type": "markdown",
   "metadata": {},
   "source": [
    "#### 1.基于MLP的softmax分类"
   ]
  },
  {
   "cell_type": "code",
   "execution_count": 1,
   "metadata": {
    "ExecuteTime": {
     "end_time": "2018-11-21T09:00:15.902479Z",
     "start_time": "2018-11-21T09:00:15.888480Z"
    }
   },
   "outputs": [],
   "source": [
    "import keras\n",
    "from keras.models import Sequential\n",
    "from keras.layers import Dense,Dropout,Activation\n",
    "from keras.optimizers import SGD"
   ]
  },
  {
   "cell_type": "code",
   "execution_count": 2,
   "metadata": {
    "ExecuteTime": {
     "end_time": "2018-11-21T09:04:49.557598Z",
     "start_time": "2018-11-21T09:04:49.551598Z"
    }
   },
   "outputs": [],
   "source": [
    "import numpy as np"
   ]
  },
  {
   "cell_type": "code",
   "execution_count": 4,
   "metadata": {
    "ExecuteTime": {
     "end_time": "2018-11-21T09:09:31.568598Z",
     "start_time": "2018-11-21T09:09:31.554598Z"
    }
   },
   "outputs": [],
   "source": [
    "x_train=np.random.random(size=(1000,20))\n",
    "y_train=keras.utils.to_categorical(np.random.randint(10,size=(1000,1)),num_classes=10)\n",
    "x_test=np.random.random(size=(100,20))\n",
    "y_test=keras.utils.to_categorical(np.random.randint(10,size=(100,1)),num_classes=10)"
   ]
  },
  {
   "cell_type": "code",
   "execution_count": 12,
   "metadata": {
    "ExecuteTime": {
     "end_time": "2018-11-21T09:12:57.032364Z",
     "start_time": "2018-11-21T09:12:56.978370Z"
    }
   },
   "outputs": [],
   "source": [
    "model=Sequential()"
   ]
  },
  {
   "cell_type": "code",
   "execution_count": 17,
   "metadata": {
    "ExecuteTime": {
     "end_time": "2018-11-21T09:35:08.589787Z",
     "start_time": "2018-11-21T09:35:01.204937Z"
    },
    "scrolled": true
   },
   "outputs": [
    {
     "name": "stdout",
     "output_type": "stream",
     "text": [
      "Train on 1000 samples, validate on 100 samples\n",
      "Epoch 1/50\n",
      "1000/1000 [==============================] - 1s 1ms/step - loss: 2.3071 - acc: 0.0890 - val_loss: 2.2963 - val_acc: 0.1400\n",
      "Epoch 2/50\n",
      "1000/1000 [==============================] - 0s 68us/step - loss: 2.3012 - acc: 0.1110 - val_loss: 2.2950 - val_acc: 0.1200\n",
      "Epoch 3/50\n",
      "1000/1000 [==============================] - 0s 86us/step - loss: 2.2983 - acc: 0.1340 - val_loss: 2.2958 - val_acc: 0.1200\n",
      "Epoch 4/50\n",
      "1000/1000 [==============================] - 0s 81us/step - loss: 2.3036 - acc: 0.1200 - val_loss: 2.2964 - val_acc: 0.1200\n",
      "Epoch 5/50\n",
      "1000/1000 [==============================] - 0s 79us/step - loss: 2.3003 - acc: 0.1010 - val_loss: 2.2974 - val_acc: 0.1200\n",
      "Epoch 6/50\n",
      "1000/1000 [==============================] - 0s 88us/step - loss: 2.2973 - acc: 0.1160 - val_loss: 2.2973 - val_acc: 0.1200\n",
      "Epoch 7/50\n",
      "1000/1000 [==============================] - 0s 97us/step - loss: 2.3022 - acc: 0.1100 - val_loss: 2.2988 - val_acc: 0.1200\n",
      "Epoch 8/50\n",
      "1000/1000 [==============================] - 0s 85us/step - loss: 2.2992 - acc: 0.1190 - val_loss: 2.2988 - val_acc: 0.1200\n",
      "Epoch 9/50\n",
      "1000/1000 [==============================] - 0s 94us/step - loss: 2.3010 - acc: 0.1160 - val_loss: 2.2987 - val_acc: 0.1200\n",
      "Epoch 10/50\n",
      "1000/1000 [==============================] - 0s 85us/step - loss: 2.2957 - acc: 0.1250 - val_loss: 2.2981 - val_acc: 0.1200\n",
      "Epoch 11/50\n",
      "1000/1000 [==============================] - 0s 92us/step - loss: 2.2964 - acc: 0.1200 - val_loss: 2.2978 - val_acc: 0.1200\n",
      "Epoch 12/50\n",
      "1000/1000 [==============================] - 0s 95us/step - loss: 2.3015 - acc: 0.1110 - val_loss: 2.2980 - val_acc: 0.1200\n",
      "Epoch 13/50\n",
      "1000/1000 [==============================] - 0s 83us/step - loss: 2.3025 - acc: 0.1220 - val_loss: 2.2986 - val_acc: 0.1200\n",
      "Epoch 14/50\n",
      "1000/1000 [==============================] - 0s 98us/step - loss: 2.3018 - acc: 0.1110 - val_loss: 2.2992 - val_acc: 0.1200\n",
      "Epoch 15/50\n",
      "1000/1000 [==============================] - 0s 91us/step - loss: 2.2990 - acc: 0.1230 - val_loss: 2.2987 - val_acc: 0.1200\n",
      "Epoch 16/50\n",
      "1000/1000 [==============================] - 0s 114us/step - loss: 2.3029 - acc: 0.1120 - val_loss: 2.2993 - val_acc: 0.1200\n",
      "Epoch 17/50\n",
      "1000/1000 [==============================] - 0s 136us/step - loss: 2.3007 - acc: 0.1140 - val_loss: 2.3004 - val_acc: 0.1200\n",
      "Epoch 18/50\n",
      "1000/1000 [==============================] - 0s 119us/step - loss: 2.3015 - acc: 0.1100 - val_loss: 2.2998 - val_acc: 0.1200\n",
      "Epoch 19/50\n",
      "1000/1000 [==============================] - 0s 93us/step - loss: 2.2976 - acc: 0.1190 - val_loss: 2.3004 - val_acc: 0.1200\n",
      "Epoch 20/50\n",
      "1000/1000 [==============================] - 0s 94us/step - loss: 2.2998 - acc: 0.1290 - val_loss: 2.3001 - val_acc: 0.1200\n",
      "Epoch 21/50\n",
      "1000/1000 [==============================] - 0s 93us/step - loss: 2.2997 - acc: 0.1030 - val_loss: 2.2998 - val_acc: 0.1200\n",
      "Epoch 22/50\n",
      "1000/1000 [==============================] - 0s 115us/step - loss: 2.3000 - acc: 0.1100 - val_loss: 2.2991 - val_acc: 0.1200\n",
      "Epoch 23/50\n",
      "1000/1000 [==============================] - 0s 121us/step - loss: 2.2950 - acc: 0.1310 - val_loss: 2.2989 - val_acc: 0.1200\n",
      "Epoch 24/50\n",
      "1000/1000 [==============================] - 0s 114us/step - loss: 2.2990 - acc: 0.1210 - val_loss: 2.2988 - val_acc: 0.1200\n",
      "Epoch 25/50\n",
      "1000/1000 [==============================] - 0s 107us/step - loss: 2.2991 - acc: 0.1200 - val_loss: 2.3000 - val_acc: 0.1200\n",
      "Epoch 26/50\n",
      "1000/1000 [==============================] - 0s 128us/step - loss: 2.2997 - acc: 0.1160 - val_loss: 2.2987 - val_acc: 0.1200\n",
      "Epoch 27/50\n",
      "1000/1000 [==============================] - 0s 159us/step - loss: 2.3000 - acc: 0.1200 - val_loss: 2.2987 - val_acc: 0.1200\n",
      "Epoch 28/50\n",
      "1000/1000 [==============================] - 0s 97us/step - loss: 2.2998 - acc: 0.1180 - val_loss: 2.2990 - val_acc: 0.1200\n",
      "Epoch 29/50\n",
      "1000/1000 [==============================] - 0s 112us/step - loss: 2.2992 - acc: 0.1130 - val_loss: 2.2989 - val_acc: 0.1200\n",
      "Epoch 30/50\n",
      "1000/1000 [==============================] - 0s 122us/step - loss: 2.2992 - acc: 0.1170 - val_loss: 2.2992 - val_acc: 0.1200\n",
      "Epoch 31/50\n",
      "1000/1000 [==============================] - 0s 143us/step - loss: 2.3005 - acc: 0.1070 - val_loss: 2.2997 - val_acc: 0.1200\n",
      "Epoch 32/50\n",
      "1000/1000 [==============================] - 0s 115us/step - loss: 2.2982 - acc: 0.1230 - val_loss: 2.2998 - val_acc: 0.1200\n",
      "Epoch 33/50\n",
      "1000/1000 [==============================] - 0s 87us/step - loss: 2.2978 - acc: 0.1230 - val_loss: 2.2988 - val_acc: 0.1200\n",
      "Epoch 34/50\n",
      "1000/1000 [==============================] - 0s 84us/step - loss: 2.3007 - acc: 0.1160 - val_loss: 2.2994 - val_acc: 0.1200\n",
      "Epoch 35/50\n",
      "1000/1000 [==============================] - 0s 111us/step - loss: 2.2975 - acc: 0.1120 - val_loss: 2.2989 - val_acc: 0.1200\n",
      "Epoch 36/50\n",
      "1000/1000 [==============================] - 0s 87us/step - loss: 2.2995 - acc: 0.1100 - val_loss: 2.2986 - val_acc: 0.1200\n",
      "Epoch 37/50\n",
      "1000/1000 [==============================] - 0s 104us/step - loss: 2.2981 - acc: 0.1260 - val_loss: 2.2984 - val_acc: 0.1200\n",
      "Epoch 38/50\n",
      "1000/1000 [==============================] - 0s 100us/step - loss: 2.2995 - acc: 0.1170 - val_loss: 2.2990 - val_acc: 0.1200\n",
      "Epoch 39/50\n",
      "1000/1000 [==============================] - 0s 89us/step - loss: 2.2970 - acc: 0.1240 - val_loss: 2.2990 - val_acc: 0.1200\n",
      "Epoch 40/50\n",
      "1000/1000 [==============================] - 0s 115us/step - loss: 2.2995 - acc: 0.1130 - val_loss: 2.2997 - val_acc: 0.1200\n",
      "Epoch 41/50\n",
      "1000/1000 [==============================] - 0s 83us/step - loss: 2.2964 - acc: 0.1210 - val_loss: 2.3001 - val_acc: 0.1200\n",
      "Epoch 42/50\n",
      "1000/1000 [==============================] - 0s 110us/step - loss: 2.2979 - acc: 0.1170 - val_loss: 2.3003 - val_acc: 0.1200\n",
      "Epoch 43/50\n",
      "1000/1000 [==============================] - 0s 99us/step - loss: 2.3007 - acc: 0.1240 - val_loss: 2.3006 - val_acc: 0.1200\n",
      "Epoch 44/50\n",
      "1000/1000 [==============================] - 0s 90us/step - loss: 2.2970 - acc: 0.1240 - val_loss: 2.3004 - val_acc: 0.1200\n",
      "Epoch 45/50\n",
      "1000/1000 [==============================] - 0s 96us/step - loss: 2.2974 - acc: 0.1270 - val_loss: 2.3004 - val_acc: 0.1200\n",
      "Epoch 46/50\n",
      "1000/1000 [==============================] - 0s 84us/step - loss: 2.2984 - acc: 0.1150 - val_loss: 2.2999 - val_acc: 0.1200\n",
      "Epoch 47/50\n",
      "1000/1000 [==============================] - 0s 114us/step - loss: 2.2994 - acc: 0.1090 - val_loss: 2.3001 - val_acc: 0.1200\n",
      "Epoch 48/50\n",
      "1000/1000 [==============================] - 0s 117us/step - loss: 2.2976 - acc: 0.1080 - val_loss: 2.2996 - val_acc: 0.1200\n",
      "Epoch 49/50\n",
      "1000/1000 [==============================] - 0s 140us/step - loss: 2.3001 - acc: 0.1180 - val_loss: 2.3000 - val_acc: 0.1200\n",
      "Epoch 50/50\n",
      "1000/1000 [==============================] - 0s 113us/step - loss: 2.2979 - acc: 0.1200 - val_loss: 2.2998 - val_acc: 0.1200\n"
     ]
    },
    {
     "data": {
      "text/plain": [
       "<keras.callbacks.History at 0x15b13048>"
      ]
     },
     "execution_count": 17,
     "metadata": {},
     "output_type": "execute_result"
    }
   ],
   "source": [
    "# Dense(64) 64个神经元的全连接\n",
    "# 第一层需要制定所需要的输入维度\n",
    "model.add(Dense(units=64,activation='relu',input_shape=(20,)))\n",
    "model.add(Dropout(rate=0.5))\n",
    "model.add(Dense(units=64,activation='relu'))\n",
    "model.add(Dropout(rate=0.5))\n",
    "model.add(Dense(units=10,activation='softmax'))\n",
    "\n",
    "sgd=SGD(lr=0.001,momentum=0.9,decay=1e-6,nesterov=True)\n",
    "model.compile(loss='categorical_crossentropy',\n",
    "             optimizer='rmsprop',\n",
    "             metrics=['accuracy'])\n",
    "model.fit(x=x_train,y=y_train,batch_size=128,epochs=50,validation_data=(x_test,y_test))"
   ]
  },
  {
   "cell_type": "code",
   "execution_count": 15,
   "metadata": {
    "ExecuteTime": {
     "end_time": "2018-11-21T09:33:07.575301Z",
     "start_time": "2018-11-21T09:33:07.529306Z"
    }
   },
   "outputs": [
    {
     "name": "stdout",
     "output_type": "stream",
     "text": [
      "\r",
      "100/100 [==============================] - 0s 380us/step\n"
     ]
    }
   ],
   "source": [
    "score=model.evaluate(x_test,y_test,batch_size=128)"
   ]
  },
  {
   "cell_type": "code",
   "execution_count": 16,
   "metadata": {
    "ExecuteTime": {
     "end_time": "2018-11-21T09:33:12.045854Z",
     "start_time": "2018-11-21T09:33:12.035855Z"
    }
   },
   "outputs": [
    {
     "data": {
      "text/plain": [
       "[2.298625946044922, 0.11999999731779099]"
      ]
     },
     "execution_count": 16,
     "metadata": {},
     "output_type": "execute_result"
    }
   ],
   "source": [
    "score"
   ]
  },
  {
   "cell_type": "markdown",
   "metadata": {},
   "source": [
    "#### 2.基于MLP的softmax分类"
   ]
  },
  {
   "cell_type": "code",
   "execution_count": 18,
   "metadata": {
    "ExecuteTime": {
     "end_time": "2018-11-21T09:51:33.658688Z",
     "start_time": "2018-11-21T09:51:33.642689Z"
    }
   },
   "outputs": [],
   "source": [
    "import numpy as np\n",
    "from keras.models import Sequential\n",
    "from keras.layers import Dense,Dropout"
   ]
  },
  {
   "cell_type": "code",
   "execution_count": 19,
   "metadata": {
    "ExecuteTime": {
     "end_time": "2018-11-21T09:58:26.946355Z",
     "start_time": "2018-11-21T09:58:26.938355Z"
    }
   },
   "outputs": [],
   "source": [
    "x_train=np.random.random((1000,20))\n",
    "y_train=np.random.randint(2,size=(1000,1))\n",
    "x_test=np.random.random((100,20))\n",
    "y_test=np.random.randint(2,size=(100,1))"
   ]
  },
  {
   "cell_type": "code",
   "execution_count": 20,
   "metadata": {
    "ExecuteTime": {
     "end_time": "2018-11-21T10:03:15.661480Z",
     "start_time": "2018-11-21T10:03:11.588888Z"
    },
    "scrolled": true
   },
   "outputs": [
    {
     "name": "stdout",
     "output_type": "stream",
     "text": [
      "Train on 1000 samples, validate on 100 samples\n",
      "Epoch 1/50\n",
      "1000/1000 [==============================] - 1s 706us/step - loss: 0.7216 - acc: 0.4870 - val_loss: 0.6948 - val_acc: 0.5000\n",
      "Epoch 2/50\n",
      "1000/1000 [==============================] - 0s 56us/step - loss: 0.7040 - acc: 0.4920 - val_loss: 0.6928 - val_acc: 0.5200\n",
      "Epoch 3/50\n",
      "1000/1000 [==============================] - 0s 51us/step - loss: 0.7160 - acc: 0.4760 - val_loss: 0.6926 - val_acc: 0.5500\n",
      "Epoch 4/50\n",
      "1000/1000 [==============================] - 0s 50us/step - loss: 0.7028 - acc: 0.5090 - val_loss: 0.6921 - val_acc: 0.5000\n",
      "Epoch 5/50\n",
      "1000/1000 [==============================] - 0s 48us/step - loss: 0.7063 - acc: 0.4980 - val_loss: 0.6926 - val_acc: 0.5100\n",
      "Epoch 6/50\n",
      "1000/1000 [==============================] - 0s 49us/step - loss: 0.7012 - acc: 0.5120 - val_loss: 0.6942 - val_acc: 0.4800\n",
      "Epoch 7/50\n",
      "1000/1000 [==============================] - 0s 87us/step - loss: 0.6988 - acc: 0.5000 - val_loss: 0.6948 - val_acc: 0.4900\n",
      "Epoch 8/50\n",
      "1000/1000 [==============================] - 0s 86us/step - loss: 0.6983 - acc: 0.4960 - val_loss: 0.6953 - val_acc: 0.5200\n",
      "Epoch 9/50\n",
      "1000/1000 [==============================] - 0s 74us/step - loss: 0.6957 - acc: 0.5080 - val_loss: 0.6956 - val_acc: 0.5100\n",
      "Epoch 10/50\n",
      "1000/1000 [==============================] - 0s 64us/step - loss: 0.6983 - acc: 0.5050 - val_loss: 0.6956 - val_acc: 0.4800\n",
      "Epoch 11/50\n",
      "1000/1000 [==============================] - 0s 47us/step - loss: 0.6922 - acc: 0.5090 - val_loss: 0.6959 - val_acc: 0.5000\n",
      "Epoch 12/50\n",
      "1000/1000 [==============================] - 0s 38us/step - loss: 0.6943 - acc: 0.5060 - val_loss: 0.6954 - val_acc: 0.4700\n",
      "Epoch 13/50\n",
      "1000/1000 [==============================] - 0s 56us/step - loss: 0.6944 - acc: 0.5220 - val_loss: 0.6947 - val_acc: 0.4700\n",
      "Epoch 14/50\n",
      "1000/1000 [==============================] - 0s 41us/step - loss: 0.6942 - acc: 0.5080 - val_loss: 0.6936 - val_acc: 0.5100\n",
      "Epoch 15/50\n",
      "1000/1000 [==============================] - 0s 54us/step - loss: 0.6950 - acc: 0.5050 - val_loss: 0.6943 - val_acc: 0.4600\n",
      "Epoch 16/50\n",
      "1000/1000 [==============================] - 0s 48us/step - loss: 0.6912 - acc: 0.5340 - val_loss: 0.6946 - val_acc: 0.4300\n",
      "Epoch 17/50\n",
      "1000/1000 [==============================] - 0s 45us/step - loss: 0.6921 - acc: 0.5270 - val_loss: 0.6951 - val_acc: 0.4800\n",
      "Epoch 18/50\n",
      "1000/1000 [==============================] - 0s 51us/step - loss: 0.6949 - acc: 0.5210 - val_loss: 0.6973 - val_acc: 0.4400\n",
      "Epoch 19/50\n",
      "1000/1000 [==============================] - 0s 85us/step - loss: 0.6885 - acc: 0.5330 - val_loss: 0.6976 - val_acc: 0.4600\n",
      "Epoch 20/50\n",
      "1000/1000 [==============================] - 0s 62us/step - loss: 0.6939 - acc: 0.5070 - val_loss: 0.6979 - val_acc: 0.4600\n",
      "Epoch 21/50\n",
      "1000/1000 [==============================] - 0s 58us/step - loss: 0.6938 - acc: 0.5010 - val_loss: 0.6974 - val_acc: 0.4500\n",
      "Epoch 22/50\n",
      "1000/1000 [==============================] - 0s 54us/step - loss: 0.6954 - acc: 0.5090 - val_loss: 0.6977 - val_acc: 0.4200\n",
      "Epoch 23/50\n",
      "1000/1000 [==============================] - 0s 53us/step - loss: 0.6922 - acc: 0.5240 - val_loss: 0.6971 - val_acc: 0.4200\n",
      "Epoch 24/50\n",
      "1000/1000 [==============================] - 0s 61us/step - loss: 0.6877 - acc: 0.5590 - val_loss: 0.6965 - val_acc: 0.5200\n",
      "Epoch 25/50\n",
      "1000/1000 [==============================] - 0s 45us/step - loss: 0.6922 - acc: 0.5280 - val_loss: 0.6968 - val_acc: 0.4500\n",
      "Epoch 26/50\n",
      "1000/1000 [==============================] - 0s 54us/step - loss: 0.6914 - acc: 0.5200 - val_loss: 0.6969 - val_acc: 0.4400\n",
      "Epoch 27/50\n",
      "1000/1000 [==============================] - 0s 51us/step - loss: 0.6908 - acc: 0.5400 - val_loss: 0.6957 - val_acc: 0.4400\n",
      "Epoch 28/50\n",
      "1000/1000 [==============================] - 0s 65us/step - loss: 0.6917 - acc: 0.5370 - val_loss: 0.6957 - val_acc: 0.4400\n",
      "Epoch 29/50\n",
      "1000/1000 [==============================] - 0s 55us/step - loss: 0.6912 - acc: 0.5070 - val_loss: 0.6958 - val_acc: 0.4500\n",
      "Epoch 30/50\n",
      "1000/1000 [==============================] - 0s 54us/step - loss: 0.6891 - acc: 0.5490 - val_loss: 0.6955 - val_acc: 0.4800\n",
      "Epoch 31/50\n",
      "1000/1000 [==============================] - 0s 46us/step - loss: 0.6826 - acc: 0.5580 - val_loss: 0.6968 - val_acc: 0.4900\n",
      "Epoch 32/50\n",
      "1000/1000 [==============================] - 0s 63us/step - loss: 0.6834 - acc: 0.5790 - val_loss: 0.6970 - val_acc: 0.4900\n",
      "Epoch 33/50\n",
      "1000/1000 [==============================] - 0s 51us/step - loss: 0.6883 - acc: 0.5360 - val_loss: 0.6960 - val_acc: 0.5000\n",
      "Epoch 34/50\n",
      "1000/1000 [==============================] - 0s 54us/step - loss: 0.6891 - acc: 0.5110 - val_loss: 0.6968 - val_acc: 0.4600\n",
      "Epoch 35/50\n",
      "1000/1000 [==============================] - 0s 42us/step - loss: 0.6867 - acc: 0.5550 - val_loss: 0.6958 - val_acc: 0.4600\n",
      "Epoch 36/50\n",
      "1000/1000 [==============================] - 0s 52us/step - loss: 0.6894 - acc: 0.5350 - val_loss: 0.6961 - val_acc: 0.4600\n",
      "Epoch 37/50\n",
      "1000/1000 [==============================] - 0s 59us/step - loss: 0.6876 - acc: 0.5280 - val_loss: 0.6945 - val_acc: 0.5000\n",
      "Epoch 38/50\n",
      "1000/1000 [==============================] - 0s 54us/step - loss: 0.6859 - acc: 0.5480 - val_loss: 0.6940 - val_acc: 0.5100\n",
      "Epoch 39/50\n",
      "1000/1000 [==============================] - 0s 46us/step - loss: 0.6863 - acc: 0.5360 - val_loss: 0.6941 - val_acc: 0.5100\n",
      "Epoch 40/50\n",
      "1000/1000 [==============================] - 0s 49us/step - loss: 0.6852 - acc: 0.5460 - val_loss: 0.6937 - val_acc: 0.5100\n",
      "Epoch 41/50\n",
      "1000/1000 [==============================] - 0s 52us/step - loss: 0.6846 - acc: 0.5510 - val_loss: 0.6939 - val_acc: 0.4900\n",
      "Epoch 42/50\n",
      "1000/1000 [==============================] - 0s 63us/step - loss: 0.6907 - acc: 0.5350 - val_loss: 0.6934 - val_acc: 0.5200\n",
      "Epoch 43/50\n",
      "1000/1000 [==============================] - 0s 50us/step - loss: 0.6819 - acc: 0.5590 - val_loss: 0.6939 - val_acc: 0.5200\n",
      "Epoch 44/50\n",
      "1000/1000 [==============================] - 0s 59us/step - loss: 0.6869 - acc: 0.5590 - val_loss: 0.6943 - val_acc: 0.4900\n",
      "Epoch 45/50\n",
      "1000/1000 [==============================] - 0s 65us/step - loss: 0.6851 - acc: 0.5740 - val_loss: 0.6946 - val_acc: 0.4900\n",
      "Epoch 46/50\n",
      "1000/1000 [==============================] - 0s 54us/step - loss: 0.6869 - acc: 0.5400 - val_loss: 0.6944 - val_acc: 0.4800\n",
      "Epoch 47/50\n",
      "1000/1000 [==============================] - 0s 41us/step - loss: 0.6798 - acc: 0.5770 - val_loss: 0.6945 - val_acc: 0.4800\n",
      "Epoch 48/50\n",
      "1000/1000 [==============================] - 0s 55us/step - loss: 0.6859 - acc: 0.5410 - val_loss: 0.6949 - val_acc: 0.4800\n",
      "Epoch 49/50\n",
      "1000/1000 [==============================] - 0s 62us/step - loss: 0.6839 - acc: 0.5570 - val_loss: 0.6937 - val_acc: 0.4900\n",
      "Epoch 50/50\n",
      "1000/1000 [==============================] - 0s 57us/step - loss: 0.6863 - acc: 0.5450 - val_loss: 0.6936 - val_acc: 0.4800\n"
     ]
    },
    {
     "data": {
      "text/plain": [
       "<keras.callbacks.History at 0x19a2a208>"
      ]
     },
     "execution_count": 20,
     "metadata": {},
     "output_type": "execute_result"
    }
   ],
   "source": [
    "model=Sequential()\n",
    "model.add(Dense(64,activation='relu',input_shape=(20,)))\n",
    "model.add(Dropout(0.5))\n",
    "model.add(Dense(64,activation='relu'))\n",
    "model.add(Dropout(0.5))\n",
    "model.add(Dense(1,activation='sigmoid'))\n",
    "\n",
    "model.compile(optimizer='rmsprop',\n",
    "              loss='binary_crossentropy',\n",
    "              metrics=['accuracy'])\n",
    "\n",
    "model.fit(x_train,y_train,batch_size=128,epochs=50,validation_data=(x_test,y_test))"
   ]
  },
  {
   "cell_type": "code",
   "execution_count": 21,
   "metadata": {
    "ExecuteTime": {
     "end_time": "2018-11-21T10:05:19.889056Z",
     "start_time": "2018-11-21T10:05:19.853060Z"
    }
   },
   "outputs": [
    {
     "name": "stdout",
     "output_type": "stream",
     "text": [
      "100/100 [==============================] - 0s 260us/step\n",
      "[0.6935662627220154, 0.47999998927116394]\n"
     ]
    }
   ],
   "source": [
    "print(model.evaluate(x=x_test,y=y_test,batch_size=128))"
   ]
  },
  {
   "cell_type": "markdown",
   "metadata": {},
   "source": [
    "#### 3. 仿VGG的卷积神经网络"
   ]
  },
  {
   "cell_type": "code",
   "execution_count": 20,
   "metadata": {
    "ExecuteTime": {
     "end_time": "2018-11-24T07:03:28.426317Z",
     "start_time": "2018-11-24T07:03:28.415347Z"
    }
   },
   "outputs": [],
   "source": [
    "import numpy as np\n",
    "import keras\n",
    "from keras.models import Sequential\n",
    "from keras.layers import Dense,Dropout,Flatten\n",
    "from keras.layers import Conv2D,MaxPooling2D\n",
    "from keras.optimizers import SGD"
   ]
  },
  {
   "cell_type": "code",
   "execution_count": 21,
   "metadata": {
    "ExecuteTime": {
     "end_time": "2018-11-24T07:03:29.810570Z",
     "start_time": "2018-11-24T07:03:29.338847Z"
    }
   },
   "outputs": [],
   "source": [
    "x_train=np.random.random((500,128,128,3))\n",
    "y_train=keras.utils.to_categorical(np.random.randint(10,size=(500,1)),num_classes=10)\n",
    "x_test=np.random.random((100,128,128,3))\n",
    "y_test=keras.utils.to_categorical(np.random.randint(10,size=(100,1)),num_classes=10)"
   ]
  },
  {
   "cell_type": "code",
   "execution_count": 22,
   "metadata": {
    "ExecuteTime": {
     "end_time": "2018-11-24T07:03:29.869410Z",
     "start_time": "2018-11-24T07:03:29.865421Z"
    }
   },
   "outputs": [],
   "source": [
    "model=Sequential()"
   ]
  },
  {
   "cell_type": "code",
   "execution_count": 23,
   "metadata": {
    "ExecuteTime": {
     "end_time": "2018-11-24T07:03:31.635917Z",
     "start_time": "2018-11-24T07:03:31.532063Z"
    }
   },
   "outputs": [],
   "source": [
    "model.add(Conv2D(filters=32,kernel_size=(3,3),activation='relu',input_shape=(128,128,3)))\n",
    "model.add(Conv2D(filters=32,kernel_size=(3,3),activation='relu'))\n",
    "model.add(MaxPooling2D(pool_size=(2,2)))\n",
    "model.add(Dropout(0.25))"
   ]
  },
  {
   "cell_type": "code",
   "execution_count": 24,
   "metadata": {
    "ExecuteTime": {
     "end_time": "2018-11-24T07:03:49.855374Z",
     "start_time": "2018-11-24T07:03:49.652658Z"
    }
   },
   "outputs": [
    {
     "name": "stdout",
     "output_type": "stream",
     "text": [
      "_________________________________________________________________\n",
      "Layer (type)                 Output Shape              Param #   \n",
      "=================================================================\n",
      "conv2d_13 (Conv2D)           (None, 126, 126, 32)      896       \n",
      "_________________________________________________________________\n",
      "conv2d_14 (Conv2D)           (None, 124, 124, 32)      9248      \n",
      "_________________________________________________________________\n",
      "max_pooling2d_7 (MaxPooling2 (None, 62, 62, 32)        0         \n",
      "_________________________________________________________________\n",
      "dropout_10 (Dropout)         (None, 62, 62, 32)        0         \n",
      "_________________________________________________________________\n",
      "conv2d_15 (Conv2D)           (None, 60, 60, 62)        17918     \n",
      "_________________________________________________________________\n",
      "conv2d_16 (Conv2D)           (None, 58, 58, 62)        34658     \n",
      "_________________________________________________________________\n",
      "max_pooling2d_8 (MaxPooling2 (None, 29, 29, 62)        0         \n",
      "_________________________________________________________________\n",
      "dropout_11 (Dropout)         (None, 29, 29, 62)        0         \n",
      "_________________________________________________________________\n",
      "flatten_4 (Flatten)          (None, 52142)             0         \n",
      "_________________________________________________________________\n",
      "dense_7 (Dense)              (None, 256)               13348608  \n",
      "_________________________________________________________________\n",
      "dropout_12 (Dropout)         (None, 256)               0         \n",
      "_________________________________________________________________\n",
      "dense_8 (Dense)              (None, 10)                2570      \n",
      "=================================================================\n",
      "Total params: 13,413,898\n",
      "Trainable params: 13,413,898\n",
      "Non-trainable params: 0\n",
      "_________________________________________________________________\n"
     ]
    }
   ],
   "source": [
    "model.add(Conv2D(62,(3,3),activation='relu'))\n",
    "model.add(Conv2D(62,(3,3),activation='relu'))\n",
    "model.add(MaxPooling2D((2,2)))\n",
    "model.add(Dropout(0.25))\n",
    "model.add(Flatten())\n",
    "model.add(Dense(256,activation='relu'))\n",
    "model.add(Dropout(0.25))\n",
    "model.add(Dense(10,activation='softmax'))\n",
    "\n",
    "sgd=SGD(lr=0.01,momentum=0.9,decay=1e-6,nesterov=True)\n",
    "model.compile(optimizer=sgd,loss='categorical_crossentropy')\n",
    "model.summary()"
   ]
  },
  {
   "cell_type": "code",
   "execution_count": 25,
   "metadata": {
    "ExecuteTime": {
     "end_time": "2018-11-24T07:06:35.258433Z",
     "start_time": "2018-11-24T07:04:04.512825Z"
    }
   },
   "outputs": [
    {
     "name": "stdout",
     "output_type": "stream",
     "text": [
      "Epoch 1/5\n",
      "500/500 [==============================] - 29s 57ms/step - loss: 2.3332\n",
      "Epoch 2/5\n",
      "500/500 [==============================] - 27s 53ms/step - loss: 2.3018\n",
      "Epoch 3/5\n",
      "500/500 [==============================] - 32s 64ms/step - loss: 2.2945\n",
      "Epoch 4/5\n",
      "500/500 [==============================] - 30s 59ms/step - loss: 2.2935\n",
      "Epoch 5/5\n",
      "500/500 [==============================] - 31s 61ms/step - loss: 2.2870\n",
      "100/100 [==============================] - 2s 24ms/step\n"
     ]
    }
   ],
   "source": [
    "model.fit(x=x_train,y=y_train,batch_size=64,epochs=5)\n",
    "score=model.evaluate(x_test,y_test,batch_size=32)"
   ]
  },
  {
   "cell_type": "code",
   "execution_count": 26,
   "metadata": {
    "ExecuteTime": {
     "end_time": "2018-11-24T07:06:50.025660Z",
     "start_time": "2018-11-24T07:06:50.003566Z"
    }
   },
   "outputs": [
    {
     "data": {
      "text/plain": [
       "2.297590045928955"
      ]
     },
     "execution_count": 26,
     "metadata": {},
     "output_type": "execute_result"
    }
   ],
   "source": [
    "score"
   ]
  },
  {
   "cell_type": "markdown",
   "metadata": {},
   "source": [
    "#### 4. 类似于LSTM的序列分类"
   ]
  },
  {
   "cell_type": "code",
   "execution_count": 27,
   "metadata": {
    "ExecuteTime": {
     "end_time": "2018-11-24T07:10:16.460530Z",
     "start_time": "2018-11-24T07:10:16.450487Z"
    }
   },
   "outputs": [],
   "source": [
    "import keras\n",
    "from keras.models import Sequential\n",
    "from keras.layers import Dense,Dropout,Embedding,LSTM"
   ]
  },
  {
   "cell_type": "code",
   "execution_count": 30,
   "metadata": {
    "ExecuteTime": {
     "end_time": "2018-11-24T07:23:26.821612Z",
     "start_time": "2018-11-24T07:23:26.801610Z"
    }
   },
   "outputs": [],
   "source": [
    "x_train=np.random.random((500,128))\n",
    "y_train=keras.utils.to_categorical(np.random.randint(10,size=(500,1)),num_classes=10)\n",
    "x_test=np.random.random((100,128))\n",
    "y_test=keras.utils.to_categorical(np.random.randint(10,size=(100,1)),num_classes=10)"
   ]
  },
  {
   "cell_type": "code",
   "execution_count": 31,
   "metadata": {
    "ExecuteTime": {
     "end_time": "2018-11-24T07:23:30.125942Z",
     "start_time": "2018-11-24T07:23:29.744904Z"
    }
   },
   "outputs": [
    {
     "name": "stdout",
     "output_type": "stream",
     "text": [
      "_________________________________________________________________\n",
      "Layer (type)                 Output Shape              Param #   \n",
      "=================================================================\n",
      "embedding_2 (Embedding)      (None, None, 256)         65536     \n",
      "_________________________________________________________________\n",
      "lstm_2 (LSTM)                (None, 128)               197120    \n",
      "_________________________________________________________________\n",
      "dropout_14 (Dropout)         (None, 128)               0         \n",
      "_________________________________________________________________\n",
      "dense_10 (Dense)             (None, 10)                1290      \n",
      "=================================================================\n",
      "Total params: 263,946\n",
      "Trainable params: 263,946\n",
      "Non-trainable params: 0\n",
      "_________________________________________________________________\n"
     ]
    }
   ],
   "source": [
    "model=Sequential()\n",
    "model.add(Embedding(input_dim=256,output_dim=256))\n",
    "model.add(LSTM(128))\n",
    "model.add(Dropout(0.5))\n",
    "model.add(Dense(10,activation='softmax'))\n",
    "model.compile(optimizer='sgd',loss='categorical_crossentropy',metrics=['accuracy'])\n",
    "model.summary()"
   ]
  },
  {
   "cell_type": "code",
   "execution_count": 32,
   "metadata": {
    "ExecuteTime": {
     "end_time": "2018-11-24T07:23:54.805410Z",
     "start_time": "2018-11-24T07:23:31.938123Z"
    },
    "scrolled": true
   },
   "outputs": [
    {
     "name": "stdout",
     "output_type": "stream",
     "text": [
      "Epoch 1/10\n",
      "500/500 [==============================] - 3s 6ms/step - loss: 2.3055 - acc: 0.1000\n",
      "Epoch 2/10\n",
      "500/500 [==============================] - 2s 4ms/step - loss: 2.3042 - acc: 0.1000\n",
      "Epoch 3/10\n",
      "500/500 [==============================] - 2s 4ms/step - loss: 2.3048 - acc: 0.0940\n",
      "Epoch 4/10\n",
      "500/500 [==============================] - 2s 4ms/step - loss: 2.3019 - acc: 0.1020\n",
      "Epoch 5/10\n",
      "500/500 [==============================] - 2s 4ms/step - loss: 2.3027 - acc: 0.1080\n",
      "Epoch 6/10\n",
      "500/500 [==============================] - 2s 4ms/step - loss: 2.3044 - acc: 0.1000\n",
      "Epoch 7/10\n",
      "500/500 [==============================] - 2s 5ms/step - loss: 2.3022 - acc: 0.1000\n",
      "Epoch 8/10\n",
      "500/500 [==============================] - 2s 4ms/step - loss: 2.3043 - acc: 0.1080\n",
      "Epoch 9/10\n",
      "500/500 [==============================] - 2s 4ms/step - loss: 2.3022 - acc: 0.1100\n",
      "Epoch 10/10\n",
      "500/500 [==============================] - 2s 4ms/step - loss: 2.3023 - acc: 0.1260\n",
      "100/100 [==============================] - 0s 4ms/step\n"
     ]
    }
   ],
   "source": [
    "model.fit(x=x_train,y=y_train,batch_size=128,epochs=10)\n",
    "score=model.evaluate(x=x_test,y=y_test,batch_size=64)"
   ]
  },
  {
   "cell_type": "markdown",
   "metadata": {},
   "source": [
    "#### 5. 基于1D卷积的序列分类"
   ]
  },
  {
   "cell_type": "code",
   "execution_count": 5,
   "metadata": {
    "ExecuteTime": {
     "end_time": "2018-11-24T09:19:03.401486Z",
     "start_time": "2018-11-24T09:19:03.395486Z"
    }
   },
   "outputs": [],
   "source": [
    "import keras\n",
    "from keras.models import Sequential\n",
    "from keras.layers import Dense,Dropout,Embedding,Conv1D,GlobalAveragePooling1D,MaxPooling1D"
   ]
  },
  {
   "cell_type": "code",
   "execution_count": 6,
   "metadata": {
    "ExecuteTime": {
     "end_time": "2018-11-24T09:19:04.842342Z",
     "start_time": "2018-11-24T09:19:04.737352Z"
    }
   },
   "outputs": [],
   "source": [
    "x_train=np.random.random((500,100,128))\n",
    "y_train=keras.utils.to_categorical(np.random.randint(10,size=(500,1)),num_classes=10)\n",
    "x_test=np.random.random((100,100,128))\n",
    "y_test=keras.utils.to_categorical(np.random.randint(10,size=(100,1)),num_classes=10)"
   ]
  },
  {
   "cell_type": "code",
   "execution_count": null,
   "metadata": {
    "ExecuteTime": {
     "start_time": "2018-11-24T09:19:06.376Z"
    }
   },
   "outputs": [
    {
     "name": "stdout",
     "output_type": "stream",
     "text": [
      "Epoch 1/10\n"
     ]
    }
   ],
   "source": [
    "model=Sequential()\n",
    "model.add(Conv1D(filters=32,kernel_size=3,activation='relu',input_shape=(100,128)))\n",
    "model.add(Conv1D(filters=32,kernel_size=3,activation='relu'))\n",
    "model.add(MaxPooling1D(3))\n",
    "model.add(Conv1D(filters=32,kernel_size=3,activation='relu'))\n",
    "model.add(Conv1D(filters=32,kernel_size=3,activation='relu'))\n",
    "model.add(GlobalAveragePooling1D())\n",
    "model.add(Dropout(0.5))\n",
    "model.add(Dense(10,activation='softmax'))\n",
    "\n",
    "model.compile(loss='categorical_crossentropy',optimizer='rmsprop',metrics=['accuracy'])\n",
    "\n",
    "model.fit(x_train,y_train,batch_size=64,epochs=10)\n",
    "score=model.evaluate(x_test,y_test,batch_size=64)"
   ]
  },
  {
   "cell_type": "markdown",
   "metadata": {},
   "source": [
    "#### 6. 基于栈式LSTM的序列分类"
   ]
  },
  {
   "cell_type": "code",
   "execution_count": 1,
   "metadata": {
    "ExecuteTime": {
     "end_time": "2018-11-24T09:45:18.979323Z",
     "start_time": "2018-11-24T09:45:18.977323Z"
    }
   },
   "outputs": [],
   "source": [
    "import keras\n",
    "from keras.models import Sequential\n",
    "from keras.layers import LSTM,Dense\n",
    "import numpy as np"
   ]
  },
  {
   "cell_type": "code",
   "execution_count": 2,
   "metadata": {
    "ExecuteTime": {
     "end_time": "2018-11-24T09:46:58.423377Z",
     "start_time": "2018-11-24T09:46:58.420377Z"
    }
   },
   "outputs": [],
   "source": [
    "data_dim=16\n",
    "timesteps=8\n",
    "num_classes=10"
   ]
  },
  {
   "cell_type": "code",
   "execution_count": 9,
   "metadata": {
    "ExecuteTime": {
     "end_time": "2018-11-24T10:01:41.213824Z",
     "start_time": "2018-11-24T10:01:40.389824Z"
    }
   },
   "outputs": [],
   "source": [
    "model=Sequential()\n",
    "model.add(LSTM(units=32,return_sequences=True,input_shape=(timesteps,data_dim)))\n",
    "model.add(LSTM(units=32,return_sequences=True))\n",
    "model.add(LSTM(units=32))\n",
    "model.add(Dense(10,activation='softmax'))\n",
    "\n",
    "model.compile(loss='categorical_crossentropy',optimizer='rmsprop',metrics=['accuracy'])"
   ]
  },
  {
   "cell_type": "code",
   "execution_count": 10,
   "metadata": {
    "ExecuteTime": {
     "end_time": "2018-11-24T10:01:41.267824Z",
     "start_time": "2018-11-24T10:01:41.260824Z"
    }
   },
   "outputs": [],
   "source": [
    "x_train=np.random.random((500,timesteps,data_dim))\n",
    "y_train=np.random.random((500,num_classes))\n",
    "\n",
    "x_val = np.random.random((100, timesteps, data_dim))\n",
    "y_val = np.random.random((100, num_classes))"
   ]
  },
  {
   "cell_type": "code",
   "execution_count": 11,
   "metadata": {
    "ExecuteTime": {
     "end_time": "2018-11-24T10:01:48.566824Z",
     "start_time": "2018-11-24T10:01:41.467824Z"
    }
   },
   "outputs": [
    {
     "name": "stdout",
     "output_type": "stream",
     "text": [
      "Train on 500 samples, validate on 100 samples\n",
      "Epoch 1/5\n",
      "500/500 [==============================] - 3s 7ms/step - loss: 11.5121 - acc: 0.1000 - val_loss: 11.2722 - val_acc: 0.0600\n",
      "Epoch 2/5\n",
      "500/500 [==============================] - 0s 398us/step - loss: 11.5068 - acc: 0.1020 - val_loss: 11.2719 - val_acc: 0.0800\n",
      "Epoch 3/5\n",
      "500/500 [==============================] - 0s 386us/step - loss: 11.5062 - acc: 0.0920 - val_loss: 11.2727 - val_acc: 0.1300\n",
      "Epoch 4/5\n",
      "500/500 [==============================] - 0s 374us/step - loss: 11.5071 - acc: 0.0760 - val_loss: 11.2705 - val_acc: 0.1000\n",
      "Epoch 5/5\n",
      "500/500 [==============================] - 0s 430us/step - loss: 11.5057 - acc: 0.0900 - val_loss: 11.2707 - val_acc: 0.1200\n"
     ]
    },
    {
     "data": {
      "text/plain": [
       "<keras.callbacks.History at 0x16cca6d8>"
      ]
     },
     "execution_count": 11,
     "metadata": {},
     "output_type": "execute_result"
    }
   ],
   "source": [
    "model.fit(x=x_train,y=y_train,batch_size=64,epochs=5,validation_data=(x_val,y_val))"
   ]
  },
  {
   "cell_type": "code",
   "execution_count": null,
   "metadata": {},
   "outputs": [],
   "source": []
  }
 ],
 "metadata": {
  "kernelspec": {
   "display_name": "py36-env",
   "language": "python",
   "name": "py36-env"
  },
  "language_info": {
   "codemirror_mode": {
    "name": "ipython",
    "version": 3
   },
   "file_extension": ".py",
   "mimetype": "text/x-python",
   "name": "python",
   "nbconvert_exporter": "python",
   "pygments_lexer": "ipython3",
   "version": "3.6.6"
  },
  "latex_envs": {
   "LaTeX_envs_menu_present": true,
   "autoclose": false,
   "autocomplete": true,
   "bibliofile": "biblio.bib",
   "cite_by": "apalike",
   "current_citInitial": 1,
   "eqLabelWithNumbers": true,
   "eqNumInitial": 1,
   "hotkeys": {
    "equation": "Ctrl-E",
    "itemize": "Ctrl-I"
   },
   "labels_anchors": false,
   "latex_user_defs": false,
   "report_style_numbering": false,
   "user_envs_cfg": false
  },
  "varInspector": {
   "cols": {
    "lenName": 16,
    "lenType": 16,
    "lenVar": 40
   },
   "kernels_config": {
    "python": {
     "delete_cmd_postfix": "",
     "delete_cmd_prefix": "del ",
     "library": "var_list.py",
     "varRefreshCmd": "print(var_dic_list())"
    },
    "r": {
     "delete_cmd_postfix": ") ",
     "delete_cmd_prefix": "rm(",
     "library": "var_list.r",
     "varRefreshCmd": "cat(var_dic_list()) "
    }
   },
   "types_to_exclude": [
    "module",
    "function",
    "builtin_function_or_method",
    "instance",
    "_Feature"
   ],
   "window_display": false
  }
 },
 "nbformat": 4,
 "nbformat_minor": 2
}
